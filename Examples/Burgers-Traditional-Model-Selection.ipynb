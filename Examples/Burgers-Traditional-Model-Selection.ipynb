{
 "cells": [
  {
   "cell_type": "code",
   "execution_count": 1,
   "id": "e1412bc1",
   "metadata": {},
   "outputs": [
    {
     "name": "stdout",
     "output_type": "stream",
     "text": [
      "Sklearn's version: 1.2.2\n"
     ]
    }
   ],
   "source": [
    "%matplotlib inline\n",
    "import matplotlib.pyplot as plt\n",
    "import warnings; warnings.filterwarnings(\"ignore\")\n",
    "\n",
    "import os\n",
    "import sys; sys.path.append('../')\n",
    "import numpy as np\n",
    "from numpy.random import default_rng\n",
    "\n",
    "import scipy.io as sio\n",
    "import pysindy as ps\n",
    "from PDE_FIND import build_linear_system, print_pde, TrainSTRidge\n",
    "from best_subset import *\n",
    "from UBIC import *\n",
    "\n",
    "from sklearn import feature_selection as fs\n",
    "import shap\n",
    "\n",
    "def evaluate_coefficients(prediected_coeffs):\n",
    "    GROUND = np.array([0.1, -1])\n",
    "    errs = 100*np.abs(GROUND-np.array(prediected_coeffs).flatten())/np.abs(GROUND)\n",
    "    return errs.mean(), errs.std()"
   ]
  },
  {
   "cell_type": "markdown",
   "id": "ec2cb006",
   "metadata": {},
   "source": [
    "#### Load data"
   ]
  },
  {
   "cell_type": "code",
   "execution_count": 2,
   "id": "0e1d253e",
   "metadata": {},
   "outputs": [],
   "source": [
    "data = sio.loadmat('../Datasets/burgers.mat')\n",
    "u = (data['usol']).real\n",
    "x = (data['x'][0]).real\n",
    "t = (data['t'][:,0]).real\n",
    "dt = t[1]-t[0]\n",
    "dx = x[2]-x[1]\n",
    "X, T = np.meshgrid(x, t)\n",
    "XT = np.asarray([X, T]).T"
   ]
  },
  {
   "cell_type": "markdown",
   "id": "a52b3e7d",
   "metadata": {},
   "source": [
    "#### Visualization"
   ]
  },
  {
   "cell_type": "code",
   "execution_count": 3,
   "id": "00fab164",
   "metadata": {},
   "outputs": [
    {
     "data": {
      "image/png": "[encoded data removed]",
      "text/plain": [
       "<Figure size 252x189 with 2 Axes>"
      ]
     },
     "metadata": {
      "needs_background": "light"
     },
     "output_type": "display_data"
    }
   ],
   "source": [
    "with plt.style.context(['science']):\n",
    "    ufig, uax = plt.subplots()\n",
    "    contour = uax.pcolormesh(t, x, u, shading='gouraud')\n",
    "    uax.set_xlabel(\"$t$\")\n",
    "    uax.set_ylabel(\"$x$\")\n",
    "    uax.set_title(\"$u$\")\n",
    "    cbar = ufig.colorbar(contour)\n",
    "    ufig.savefig(\"../Figures/burgers.png\", dpi=300)\n",
    "    plt.show()"
   ]
  },
  {
   "cell_type": "markdown",
   "id": "f25fc2a6",
   "metadata": {},
   "source": [
    "#### Add noise"
   ]
  },
  {
   "cell_type": "code",
   "execution_count": 4,
   "id": "41704e4d",
   "metadata": {},
   "outputs": [
    {
     "name": "stdout",
     "output_type": "stream",
     "text": [
      "----- Clean -----\n",
      "STLSQ model: \n",
      "(x0)' = 0.100 x0_11 + -1.001 x0x0_1\n",
      "l0_penalty: 1.6123253173828125\n",
      "PDE derived using STRidge\n",
      "u_t = (-1.000403 +0.000000i)uu_{x}\n",
      "    + (0.100145 +0.000000i)u_{xx}\n",
      "   \n",
      "\n",
      "----- Add 30% noise -----\n",
      "30.0\n",
      "l0_penalty: 1.93969921875\n",
      "PDE derived using STRidge\n",
      "u_t = (-0.775461 +0.000000i)uu_{x}\n",
      "   \n"
     ]
    }
   ],
   "source": [
    "print(\"----- Clean -----\")\n",
    "library_functions = [lambda x: x, lambda x: x * x]\n",
    "library_function_names = [lambda x: x, lambda x: x + x]\n",
    "pde_lib = ps.PDELibrary(\n",
    "    library_functions=library_functions,\n",
    "    function_names=library_function_names,\n",
    "    derivative_order=2,\n",
    "    spatial_grid=x,\n",
    "    is_uniform=True,\n",
    ")\n",
    "\n",
    "print('STLSQ model: ')\n",
    "optimizer = ps.STLSQ(threshold=0.1, alpha=1e-5, normalize_columns=False)\n",
    "model = ps.SINDy(feature_library=pde_lib, optimizer=optimizer)\n",
    "model.fit(np.expand_dims(u, -1), t=dt)\n",
    "model.print()\n",
    "\n",
    "Ut, R, rhs_des = build_linear_system(u, dt, dx, D=3, P=3, time_diff = 'FD', space_diff = 'FD')\n",
    "rhs_des = rhs_des[1:]\n",
    "R = R[:, 1:].real; Ut = Ut.real\n",
    "w = TrainSTRidge(R,Ut,10**-5,0.1)\n",
    "print(\"PDE derived using STRidge\")\n",
    "print_pde(w, rhs_des)\n",
    "\n",
    "print()\n",
    "\n",
    "print(\"----- Add 30% noise -----\")\n",
    "np.random.seed(0)\n",
    "noise_lv = float(30)\n",
    "print(noise_lv)\n",
    "noise = 0.01*np.abs(noise_lv)*(u.std())*np.random.randn(u.shape[0],u.shape[1])\n",
    "un = u + noise\n",
    "np.mean(noise), np.std(noise), np.max(noise), np.min(noise)\n",
    "\n",
    "Utn, Rn, rhs_des = build_linear_system(un, dt, dx, D=3, P=3, time_diff = 'poly',\n",
    "                                       deg_x = 4, deg_t = 4, \n",
    "                                       width_x = 10, width_t = 10)\n",
    "rhs_des = rhs_des[1:]\n",
    "Rn = Rn[:, 1:].real; Utn = Utn.real\n",
    "# Solve with STRidge\n",
    "w = TrainSTRidge(Rn,Utn,10**-5,1)\n",
    "print(\"PDE derived using STRidge\")\n",
    "print_pde(w, rhs_des)"
   ]
  },
  {
   "cell_type": "markdown",
   "id": "aa4d5361",
   "metadata": {},
   "source": [
    "#### Use the precomputed denoised variable given by the K-SVD"
   ]
  },
  {
   "cell_type": "code",
   "execution_count": 5,
   "id": "0c7322fa",
   "metadata": {},
   "outputs": [],
   "source": [
    "denoised = True\n",
    "if denoised: un = np.load(\"./denoised_files/burgers_dictlearn_denoised30_components32_8x8.npy\")"
   ]
  },
  {
   "cell_type": "markdown",
   "id": "737b71e1",
   "metadata": {},
   "source": [
    "#### Applying best-subset regression on the weak formulation"
   ]
  },
  {
   "cell_type": "code",
   "execution_count": 6,
   "id": "8228253c",
   "metadata": {},
   "outputs": [
    {
     "data": {
      "text/plain": [
       "['x0',\n",
       " 'x0x0',\n",
       " 'x0_{x}',\n",
       " 'x0_{xx}',\n",
       " 'x0x0_{x}',\n",
       " 'x0x0x0_{x}',\n",
       " 'x0x0_{xx}',\n",
       " 'x0x0x0_{xx}']"
      ]
     },
     "execution_count": 6,
     "metadata": {},
     "output_type": "execute_result"
    }
   ],
   "source": [
    "poly_deg = None; diff_order = 2\n",
    "differentiation_method = ps.FiniteDifference; differentiation_kwargs = {}\n",
    "kwargs = {'fit_intercept':False, 'copy_X':True, 'normalize_columns':False}\n",
    "\n",
    "weak_pde_lib = ps.WeakPDELibrary(library_functions=[lambda x: x, lambda x: x * x], \n",
    "                                 function_names=[lambda x: x, lambda x: x + x], \n",
    "                                 derivative_order=diff_order, p=diff_order, \n",
    "                                 spatiotemporal_grid=XT, \n",
    "                                 include_bias=False, is_uniform=True, K=10000, # new random K points in every calls to the ps.WeakPDELibrary\n",
    "                                 differentiation_method=differentiation_method, \n",
    "                                 differentiation_kwargs=differentiation_kwargs, \n",
    "                                 cache=True\n",
    "                                )\n",
    "\n",
    "X_pre, y_pre, fns = ps_features(un, t, weak_pde_lib, kwargs)\n",
    "# y_pre = y_pre - y_pre.mean(axis=0)\n",
    "fns"
   ]
  },
  {
   "cell_type": "code",
   "execution_count": 7,
   "id": "2c750119",
   "metadata": {},
   "outputs": [],
   "source": [
    "best_subsets = [tuple(np.where(abs(brute_force(X_pre, y_pre, support_size=i).flatten())>0)[0]) \n",
    "                for i in range(1, X_pre.shape[1]+1)]"
   ]
  },
  {
   "cell_type": "markdown",
   "id": "20140d21",
   "metadata": {},
   "source": [
    "### F-test"
   ]
  },
  {
   "cell_type": "code",
   "execution_count": 8,
   "id": "6d3cee96",
   "metadata": {},
   "outputs": [
    {
     "name": "stdout",
     "output_type": "stream",
     "text": [
      "F-statistic: 11.349618489137109\n",
      "P-value: 0.0007574864881534299\n",
      "The additional feature is significant in predicting the target variable.\n"
     ]
    }
   ],
   "source": [
    "# Is u_{x} significant?\n",
    "alpha = 0.05\n",
    "model0 = sm.OLS(y_pre, X_pre[:, best_subsets[1]], hasconst=False).fit()\n",
    "model1 = sm.OLS(y_pre, X_pre[:, best_subsets[2]], hasconst=False).fit()\n",
    "f_test_res = sm.stats.anova_lm(model0, model1).iloc[-1]\n",
    "f_statistic, p_value = f_test_res['F'], f_test_res['Pr(>F)']\n",
    "print(f\"F-statistic: {f_statistic}\")\n",
    "print(f\"P-value: {p_value}\")\n",
    "if p_value < alpha:\n",
    "    print(\"The additional feature is significant in predicting the target variable.\")\n",
    "else:\n",
    "    print(\"The additional feature is not significant in predicting the target variable.\")"
   ]
  },
  {
   "cell_type": "markdown",
   "id": "5db19a5a",
   "metadata": {},
   "source": [
    "#### Mutual information"
   ]
  },
  {
   "cell_type": "code",
   "execution_count": 9,
   "id": "9c0cafed",
   "metadata": {},
   "outputs": [
    {
     "data": {
      "text/plain": [
       "(array([0.97556593, 0.94677428, 0.87256523, 0.6650905 , 0.6494026 ,\n",
       "        0.62173837, 0.48995862, 0.43541525]),\n",
       " array(['x0x0x0_{x}', 'x0x0_{x}', 'x0_{x}', 'x0x0', 'x0', 'x0x0x0_{xx}',\n",
       "        'x0x0_{xx}', 'x0_{xx}'], dtype='<U11'))"
      ]
     },
     "execution_count": 9,
     "metadata": {},
     "output_type": "execute_result"
    }
   ],
   "source": [
    "mutual_info = fs.mutual_info_regression(X_pre, y_pre)\n",
    "sorting_indices = np.argsort(mutual_info)[::-1]\n",
    "mutual_info[sorting_indices], np.array(fns)[sorting_indices]"
   ]
  },
  {
   "cell_type": "code",
   "execution_count": 10,
   "id": "95a35c8f",
   "metadata": {},
   "outputs": [],
   "source": [
    "shaps = np.array([0.00107794, 0.00099889, 0.00715736, 0.00148111, 0.00082081, 0.00439339, 0.00050938, 0.00097005], dtype=np.float32)\n",
    "fns = ['$u$','$u^{2}$','$u_{x}$','$u_{xx}$','$uu_{x}$','$u^{2}u_{x}$','$uu_{xx}$','$u^{2}u_{xx}$']"
   ]
  },
  {
   "cell_type": "code",
   "execution_count": 11,
   "id": "6a9a50bc",
   "metadata": {},
   "outputs": [
    {
     "data": {
      "image/png": "[encoded data removed]",
      "text/plain": [
       "<Figure size 252x189 with 1 Axes>"
      ]
     },
     "metadata": {
      "needs_background": "light"
     },
     "output_type": "display_data"
    }
   ],
   "source": [
    "with plt.style.context('science'):\n",
    "    mi = pd.Series(mutual_info)\n",
    "    mi = mi/mi.sum()\n",
    "    mi.index = fns\n",
    "    mi.sort_values(ascending=False, inplace=True)\n",
    "    # (?) Mutual information for each candidate\n",
    "    # plt.title('Ranking by mutual information', fontsize=12)\n",
    "    mi.plot.bar(fontsize=12)\n",
    "    plt.ylabel(\"Candidate importance\", fontsize=12)\n",
    "    plt.savefig(\"mutual_info.pdf\")\n",
    "    plt.show()"
   ]
  },
  {
   "cell_type": "code",
   "execution_count": 12,
   "id": "136bf798",
   "metadata": {},
   "outputs": [],
   "source": [
    "# np.load(\"X_weak_burgers.npy\")\n",
    "# np.load(\"y_weak_burgers.npy\")\n",
    "# np.load(\"best_subsets_burgers.npy\", allow_pickle=True)"
   ]
  },
  {
   "cell_type": "code",
   "execution_count": 13,
   "id": "73b60131",
   "metadata": {},
   "outputs": [
    {
     "name": "stderr",
     "output_type": "stream",
     "text": [
      "Exact explainer: 10001it [00:33, 226.01it/s]                                                                                                    \n"
     ]
    }
   ],
   "source": [
    "linear_model = SkLinearRegression(fit_intercept=False).fit(X_pre, y_pre)\n",
    "explainer = shap.Explainer(linear_model.predict, X_pre)\n",
    "shap_values = explainer(X_pre)"
   ]
  },
  {
   "cell_type": "code",
   "execution_count": 14,
   "id": "62de53f2",
   "metadata": {},
   "outputs": [],
   "source": [
    "candidate_importance = np.abs(shap_values.values).mean(axis=0)\n",
    "candidate_importance = candidate_importance/candidate_importance.sum()"
   ]
  },
  {
   "cell_type": "code",
   "execution_count": 15,
   "id": "2693482c",
   "metadata": {},
   "outputs": [
    {
     "data": {
      "image/png": "[encoded data removed]",
      "text/plain": [
       "<Figure size 252x189 with 1 Axes>"
      ]
     },
     "metadata": {
      "needs_background": "light"
     },
     "output_type": "display_data"
    }
   ],
   "source": [
    "with plt.style.context('science'):\n",
    "    mi = pd.Series(candidate_importance)\n",
    "    mi = mi/mi.sum()\n",
    "    mi.index = fns\n",
    "    mi.sort_values(ascending=False, inplace=True)\n",
    "    # (?) Mutual information for each candidate\n",
    "    # plt.title('Ranking by SHAP value', fontsize=12)\n",
    "    mi.plot.bar(fontsize=12)\n",
    "    plt.ylabel(\"Candidate importance\", fontsize=12)\n",
    "    plt.savefig(\"shap.pdf\")\n",
    "    plt.show()"
   ]
  },
  {
   "cell_type": "code",
   "execution_count": 44,
   "id": "12270b74",
   "metadata": {},
   "outputs": [
    {
     "data": {
      "text/plain": [
       "(array([39597.08633088, 33249.0402039 , 26044.00310333,   644.04920612,\n",
       "          605.75237157,   543.5305861 ,    39.8190605 ,    39.77767518]),\n",
       " array(['$uu_{x}$', '$u_{x}$', '$u^{2}u_{x}$', '$u^{2}$', '$u_{xx}$',\n",
       "        '$u$', '$u^{2}u_{xx}$', '$uu_{xx}$'], dtype='<U13'))"
      ]
     },
     "execution_count": 44,
     "metadata": {},
     "output_type": "execute_result"
    }
   ],
   "source": [
    "f_scores, _ = fs.f_regression(X_pre, y_pre)\n",
    "sorting_indices = np.argsort(f_scores)[::-1]\n",
    "f_scores[sorting_indices], np.array(fns)[sorting_indices]"
   ]
  },
  {
   "cell_type": "code",
   "execution_count": 45,
   "id": "d5a15cfb",
   "metadata": {},
   "outputs": [
    {
     "data": {
      "image/png": "[encoded data removed]",
      "text/plain": [
       "<Figure size 252x189 with 1 Axes>"
      ]
     },
     "metadata": {
      "needs_background": "light"
     },
     "output_type": "display_data"
    }
   ],
   "source": [
    "with plt.style.context('science'):\n",
    "    mi = pd.Series(f_scores)\n",
    "    mi = mi/mi.sum()\n",
    "    mi.index = fns\n",
    "    mi.sort_values(ascending=False, inplace=True)\n",
    "    # (?) Mutual information for each candidate\n",
    "    # plt.title('Ranking by mutual information', fontsize=12)\n",
    "    mi.plot.bar(fontsize=12)\n",
    "    plt.ylabel(\"Candidate importance\", fontsize=12)\n",
    "    plt.savefig(\"f_regression.pdf\")\n",
    "    plt.show()"
   ]
  },
  {
   "cell_type": "code",
   "execution_count": 60,
   "id": "c2a9842e",
   "metadata": {},
   "outputs": [
    {
     "data": {
      "text/plain": [
       "(array([0.79839749, 0.7687904 , 0.7226005 , 0.05708643, 0.04711015,\n",
       "        0.03377256, 0.00378066, 0.00329149]),\n",
       " array(['$uu_{x}$', '$u_{x}$', '$u^{2}u_{x}$', '$u_{xx}$', '$u^{2}$',\n",
       "        '$u$', '$u^{2}u_{xx}$', '$uu_{xx}$'], dtype='<U13'))"
      ]
     },
     "execution_count": 60,
     "metadata": {},
     "output_type": "execute_result"
    }
   ],
   "source": [
    "r_scores = np.array([SkLinearRegression(fit_intercept=False).fit(X_pre[:, i:i+1], y_pre).score(X_pre[:, i:i+1], y_pre) for i in range(X_pre.shape[-1])])\n",
    "sorting_indices = np.argsort(r_scores)[::-1]\n",
    "r_scores[sorting_indices], np.array(fns)[sorting_indices]"
   ]
  },
  {
   "cell_type": "code",
   "execution_count": 61,
   "id": "59c0b061",
   "metadata": {},
   "outputs": [
    {
     "data": {
      "image/png": "[encoded data removed]",
      "text/plain": [
       "<Figure size 252x189 with 1 Axes>"
      ]
     },
     "metadata": {
      "needs_background": "light"
     },
     "output_type": "display_data"
    }
   ],
   "source": [
    "with plt.style.context('science'):\n",
    "    mi = pd.Series(r_scores)\n",
    "    mi = mi/mi.sum()\n",
    "    mi.index = fns\n",
    "    mi.sort_values(ascending=False, inplace=True)\n",
    "    # (?) Mutual information for each candidate\n",
    "    # plt.title('Ranking by mutual information', fontsize=12)\n",
    "    mi.plot.bar(fontsize=12)\n",
    "    plt.ylabel(\"Candidate importance\", fontsize=12)\n",
    "    plt.savefig(\"r_scores.pdf\")\n",
    "    plt.show()"
   ]
  },
  {
   "cell_type": "code",
   "execution_count": null,
   "id": "b729a5b1",
   "metadata": {},
   "outputs": [],
   "source": []
  },
  {
   "cell_type": "code",
   "execution_count": null,
   "id": "956d98a8",
   "metadata": {},
   "outputs": [],
   "source": []
  },
  {
   "cell_type": "code",
   "execution_count": 16,
   "id": "0ed1dd87",
   "metadata": {},
   "outputs": [],
   "source": [
    "# y_pre = y_pre-y_pre.mean(axis=0)"
   ]
  },
  {
   "cell_type": "code",
   "execution_count": 17,
   "id": "117c7b99",
   "metadata": {},
   "outputs": [],
   "source": [
    "# tau = 3\n",
    "# verbose = True\n",
    "# scale = np.log(len(y_pre))\n",
    "# # scale = 1 <- generalized UBIC\n",
    "# per = 75\n",
    "\n",
    "# post_means, b_bics, b_uns = baye_uncertainties(best_subsets, (X_pre, y_pre), u_type='cv1', take_sqrt=True)\n",
    "# predictions = X_pre@post_means\n",
    "\n",
    "# b_bics = np.array(b_bics)\n",
    "# max_complexity = len(b_bics)\n",
    "# complexities = np.arange(max_complexity)+1\n",
    "# d_complexities = complexities[decreasing_values_indices(b_bics)]\n",
    "# d_bics = b_bics[decreasing_values_indices(b_bics)]\n",
    "# slopes = np.diff(b_bics)/(np.diff(complexities)*b_bics[:-1])\n",
    "# thres = np.percentile(np.abs(np.diff(d_bics)/(np.diff(d_complexities)*d_bics[:-1])), per)\n",
    "# # thres = 0.02\n",
    "# print(\"threshold:\", thres)\n",
    "\n",
    "# lower_bounds = []\n",
    "# for k, efi in enumerate(best_subsets):\n",
    "#     assert len(efi) == np.count_nonzero(post_means[:, k:k+1])\n",
    "#     com = len(efi)\n",
    "#     lower_bound = 2*log_like_value(predictions[:, k:k+1], y_pre)-np.log(len(y_pre))*com\n",
    "#     lower_bounds.append(lower_bound)\n",
    "\n",
    "# last_lam = np.log10(max(lower_bounds/(b_uns*scale)))\n",
    "# print(\"max_lam:\", last_lam)\n",
    "# delta = last_lam/tau\n",
    "# now_lam = last_lam-delta\n",
    "# last_ubic = UBIC(b_bics, b_uns, len(y_pre), hyp=10**last_lam, scale=scale)\n",
    "# last_bc = np.argmin(last_ubic)\n",
    "# while now_lam >= 0:\n",
    "#     now_ubic = UBIC(b_bics, b_uns, len(y_pre), hyp=10**now_lam, scale=scale)\n",
    "#     now_bc = np.argmin(now_ubic)\n",
    "    \n",
    "#     diff_com = now_bc-last_bc\n",
    "#     diff_bic = b_bics[now_bc]-b_bics[last_bc]\n",
    "#     imp = abs(diff_bic/(b_bics[last_bc]*diff_com))\n",
    "    \n",
    "#     if verbose:\n",
    "#         print(min(last_bc, now_bc), '<--->', max(last_bc, now_bc), \n",
    "#               np.nan_to_num(imp, nan=np.inf))\n",
    "    \n",
    "#     if (diff_com > 0 and (diff_bic > 0 or imp < thres)) or \\\n",
    "#         (diff_com < 0 and diff_bic > 0 and imp > thres):\n",
    "#         break\n",
    "    \n",
    "#     last_lam = now_lam\n",
    "#     now_lam = round(last_lam-delta, 8)\n",
    "#     last_ubic = now_ubic\n",
    "#     last_bc = now_bc\n",
    "\n",
    "# best_bc = last_bc\n",
    "# if abs((b_bics[last_bc]-b_bics[last_bc-1])/b_bics[last_bc-1]) < thres:\n",
    "#     best_bc = best_bc - 1\n",
    "    \n",
    "# last_lam = round(last_lam, 10)\n",
    "# last_lam, last_ubic, last_bc, best_bc"
   ]
  }
 ],
 "metadata": {
  "kernelspec": {
   "display_name": "Python [conda env:pysr]",
   "language": "python",
   "name": "conda-env-pysr-py"
  },
  "language_info": {
   "codemirror_mode": {
    "name": "ipython",
    "version": 3
   },
   "file_extension": ".py",
   "mimetype": "text/x-python",
   "name": "python",
   "nbconvert_exporter": "python",
   "pygments_lexer": "ipython3",
   "version": "3.10.10"
  }
 },
 "nbformat": 4,
 "nbformat_minor": 5
}
