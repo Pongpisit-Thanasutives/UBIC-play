{
 "cells": [
  {
   "cell_type": "code",
   "execution_count": 1,
   "id": "e1412bc1",
   "metadata": {},
   "outputs": [
    {
     "name": "stdout",
     "output_type": "stream",
     "text": [
      "Sklearn's version: 1.2.2\n"
     ]
    }
   ],
   "source": [
    "%matplotlib inline\n",
    "import matplotlib.pyplot as plt\n",
    "import warnings; warnings.filterwarnings(\"ignore\")\n",
    "\n",
    "import os\n",
    "import sys; sys.path.append('../')\n",
    "import numpy as np\n",
    "from numpy.random import default_rng\n",
    "from numpy.fft import fft, ifft\n",
    "\n",
    "import scipy.io as sio\n",
    "import pysindy as ps\n",
    "from PDE_FIND import build_linear_system, print_pde, TrainSTRidge\n",
    "from robust_PDE_FIND import RobustPCA\n",
    "from best_subset import *\n",
    "from UBIC import *\n",
    "\n",
    "from sklearn.decomposition import PCA, TruncatedSVD\n",
    "from skimage.restoration import denoise_wavelet, estimate_sigma\n",
    "\n",
    "def evaluate_coefficients(prediected_coeffs):\n",
    "    GROUND = np.array([0.1, -1])\n",
    "    errs = 100*np.abs(GROUND-np.array(prediected_coeffs).flatten())/np.abs(GROUND)\n",
    "    return errs.mean(), errs.std()"
   ]
  },
  {
   "cell_type": "markdown",
   "id": "ec2cb006",
   "metadata": {},
   "source": [
    "#### Load data"
   ]
  },
  {
   "cell_type": "code",
   "execution_count": 2,
   "id": "0e1d253e",
   "metadata": {},
   "outputs": [],
   "source": [
    "data = sio.loadmat('../Datasets/burgers.mat')\n",
    "u = (data['usol']).real\n",
    "x = (data['x'][0]).real\n",
    "t = (data['t'][:,0]).real\n",
    "dt = t[1]-t[0]\n",
    "dx = x[2]-x[1]\n",
    "X, T = np.meshgrid(x, t)\n",
    "XT = np.asarray([X, T]).T"
   ]
  },
  {
   "cell_type": "markdown",
   "id": "a52b3e7d",
   "metadata": {},
   "source": [
    "#### Visualization"
   ]
  },
  {
   "cell_type": "code",
   "execution_count": 3,
   "id": "00fab164",
   "metadata": {},
   "outputs": [
    {
     "data": {
      "image/png": "[encoded data removed]",
      "text/plain": [
       "<Figure size 252x189 with 2 Axes>"
      ]
     },
     "metadata": {
      "needs_background": "light"
     },
     "output_type": "display_data"
    }
   ],
   "source": [
    "with plt.style.context(['science']):\n",
    "    ufig, uax = plt.subplots()\n",
    "    contour = uax.pcolormesh(t, x, u, shading='gouraud')\n",
    "    uax.set_xlabel(\"$t$\")\n",
    "    uax.set_ylabel(\"$x$\")\n",
    "    uax.set_title(\"$u$\")\n",
    "    cbar = ufig.colorbar(contour)\n",
    "    # ufig.savefig(\"../Figures/burgers.png\", dpi=300)\n",
    "    plt.show()"
   ]
  },
  {
   "cell_type": "markdown",
   "id": "f25fc2a6",
   "metadata": {},
   "source": [
    "#### Add noise"
   ]
  },
  {
   "cell_type": "code",
   "execution_count": 4,
   "id": "41704e4d",
   "metadata": {},
   "outputs": [
    {
     "name": "stdout",
     "output_type": "stream",
     "text": [
      "----- Clean -----\n",
      "STLSQ model: \n",
      "(x0)' = 0.100 x0_11 + -1.001 x0x0_1\n",
      "l0_penalty: 1.6123253173828125\n",
      "PDE derived using STRidge\n",
      "u_t = (-1.000403 +0.000000i)uu_{x}\n",
      "    + (0.100145 +0.000000i)u_{xx}\n",
      "   \n",
      "\n",
      "----- Add 30% noise -----\n",
      "30.0\n",
      "l0_penalty: 1.93969921875\n",
      "PDE derived using STRidge\n",
      "u_t = (-0.775461 +0.000000i)uu_{x}\n",
      "   \n"
     ]
    }
   ],
   "source": [
    "print(\"----- Clean -----\")\n",
    "library_functions = [lambda x: x, lambda x: x * x]\n",
    "library_function_names = [lambda x: x, lambda x: x + x]\n",
    "pde_lib = ps.PDELibrary(\n",
    "    library_functions=library_functions,\n",
    "    function_names=library_function_names,\n",
    "    derivative_order=2,\n",
    "    spatial_grid=x,\n",
    "    is_uniform=True,\n",
    ")\n",
    "\n",
    "print('STLSQ model: ')\n",
    "optimizer = ps.STLSQ(threshold=0.1, alpha=1e-5, normalize_columns=False)\n",
    "model = ps.SINDy(feature_library=pde_lib, optimizer=optimizer)\n",
    "model.fit(np.expand_dims(u, -1), t=dt)\n",
    "model.print()\n",
    "\n",
    "Ut, R, rhs_des = build_linear_system(u, dt, dx, D=3, P=3, time_diff = 'FD', space_diff = 'FD')\n",
    "rhs_des = rhs_des[1:]\n",
    "R = R[:, 1:].real; Ut = Ut.real\n",
    "w = TrainSTRidge(R,Ut,10**-5,0.1)\n",
    "print(\"PDE derived using STRidge\")\n",
    "print_pde(w, rhs_des)\n",
    "\n",
    "print()\n",
    "\n",
    "print(\"----- Add 30% noise -----\")\n",
    "np.random.seed(0)\n",
    "noise_lv = float(30)\n",
    "print(noise_lv)\n",
    "noise = 0.01*np.abs(noise_lv)*(u.std())*np.random.randn(u.shape[0],u.shape[1])\n",
    "un = u + noise\n",
    "np.mean(noise), np.std(noise), np.max(noise), np.min(noise)\n",
    "\n",
    "Utn, Rn, rhs_des = build_linear_system(un, dt, dx, D=3, P=3, time_diff = 'poly',\n",
    "                                       deg_x = 4, deg_t = 4, \n",
    "                                       width_x = 10, width_t = 10)\n",
    "rhs_des = rhs_des[1:]\n",
    "Rn = Rn[:, 1:].real; Utn = Utn.real\n",
    "# Solve with STRidge\n",
    "w = TrainSTRidge(Rn,Utn,10**-5,1)\n",
    "print(\"PDE derived using STRidge\")\n",
    "print_pde(w, rhs_des)"
   ]
  },
  {
   "cell_type": "code",
   "execution_count": 5,
   "id": "a6481115",
   "metadata": {},
   "outputs": [
    {
     "name": "stdout",
     "output_type": "stream",
     "text": [
      "8.673577639876537 5.298318588581592\n"
     ]
    }
   ],
   "source": [
    "print(np.linalg.norm(u-un, ord='fro'), np.linalg.norm(u-un, ord=np.inf))"
   ]
  },
  {
   "cell_type": "markdown",
   "id": "aa4d5361",
   "metadata": {},
   "source": [
    "#### Use the precomputed denoised variable given by the K-SVD"
   ]
  },
  {
   "cell_type": "code",
   "execution_count": 6,
   "id": "0c7322fa",
   "metadata": {},
   "outputs": [
    {
     "name": "stdout",
     "output_type": "stream",
     "text": [
      "7.9994861519105465 5.248014032576636\n"
     ]
    }
   ],
   "source": [
    "denoised = True\n",
    "if denoised: \n",
    "#     denoised_un = np.load(\"./denoised_files/burgers_dictlearn_denoised30_components32_8x8.npy\")\n",
    "#     un = denoised_un\n",
    "    \n",
    "    ### PCA ###\n",
    "#     target_percentage = 99.5\n",
    "#     Sigma = PCA(n_components=un.shape[-1]).fit(un).explained_variance_ratio_\n",
    "#     # sigma = Sigma/Sigma.sum() # if .explained_variance_ is used above\n",
    "#     summ = np.cumsum(100*Sigma)\n",
    "#     n_components = np.argmax(summ>target_percentage)+1\n",
    "#     assert n_components < len(Sigma)\n",
    "#     print(n_components, summ[n_components-1])\n",
    "#     pca = PCA(n_components=n_components).fit(un)\n",
    "#     pca_un = pca.inverse_transform(pca.transform(un))\n",
    "#     un = pca_un\n",
    "    \n",
    "    ### SVD ###\n",
    "#     target_percentage = 99.99 # 90, 95, 99.99\n",
    "#     U, Sigma, V = np.linalg.svd(un, full_matrices=False); V = V.T\n",
    "#     sigma = (Sigma.copy())**2\n",
    "#     sigma = sigma/sigma.sum()\n",
    "#     summ = np.cumsum(100*sigma)\n",
    "#     n_components = np.argmax(summ>target_percentage)+1\n",
    "#     assert n_components < len(Sigma)\n",
    "#     svd_un = U[:, 0:n_components].dot(np.diag(Sigma[0:n_components]).dot(V[:,0:n_components].T))\n",
    "#     print(n_components, summ[n_components-1])\n",
    "#     un = svd_un\n",
    "    \n",
    "    ### Wavelet denoising ###\n",
    "#     wavelet_un = denoise_wavelet(un, channel_axis=None, convert2ycbcr=False, \n",
    "#                                  sigma=estimate_sigma(un, channel_axis=None, average_sigmas=True), \n",
    "#                                  method='BayesShrink', mode='soft', rescale_sigma=True)\n",
    "#     un = wavelet_un\n",
    "    \n",
    "    ### Robust PCA ###\n",
    "#     rpca_lam = 0.1\n",
    "#     un, _ = RobustPCA(un, rpca_lam)\n",
    "    \n",
    "    ### FFT ###    \n",
    "    def remove_f(uu, percent):\n",
    "        if percent <= 0: return uu\n",
    "        # PSD = (uu*np.conj(uu)) # also valid\n",
    "        PSD = (uu*np.conj(uu))/np.prod(uu[0, :].shape)\n",
    "        PSD = PSD.real\n",
    "        mask = (PSD>=np.percentile(PSD, percent)).astype(np.float32)\n",
    "        return uu*mask\n",
    "    remove_percent = 50\n",
    "    un = ifft(remove_f(fft(un), remove_percent)).real\n",
    "    \n",
    "    l_F, l_inf = np.linalg.norm(u-un, ord='fro'), np.linalg.norm(u-un, ord=np.inf)\n",
    "    print(l_F, l_inf)"
   ]
  },
  {
   "cell_type": "markdown",
   "id": "737b71e1",
   "metadata": {},
   "source": [
    "#### Applying best-subset regression on the weak formulation"
   ]
  },
  {
   "cell_type": "code",
   "execution_count": 7,
   "id": "8228253c",
   "metadata": {},
   "outputs": [],
   "source": [
    "poly_deg = None; diff_order = 2\n",
    "differentiation_method = ps.FiniteDifference; differentiation_kwargs = {}\n",
    "kwargs = {'fit_intercept':False, 'copy_X':True, 'normalize_columns':False}\n",
    "\n",
    "weak_pde_lib = ps.WeakPDELibrary(library_functions=[lambda x: x, lambda x: x * x], \n",
    "                                 function_names=[lambda x: x, lambda x: x + x], \n",
    "                                 derivative_order=diff_order, p=diff_order, \n",
    "                                 spatiotemporal_grid=XT, \n",
    "                                 include_bias=False, is_uniform=True, K=10000, # new random K points in every calls to the ps.WeakPDELibrary\n",
    "                                 differentiation_method=differentiation_method, \n",
    "                                 differentiation_kwargs=differentiation_kwargs, \n",
    "                                 cache=True\n",
    "                                )\n",
    "\n",
    "X_pre, y_pre, fns = ps_features(un, t, weak_pde_lib, kwargs)"
   ]
  },
  {
   "cell_type": "code",
   "execution_count": 8,
   "id": "65777e7c",
   "metadata": {},
   "outputs": [
    {
     "name": "stdout",
     "output_type": "stream",
     "text": [
      "Set parameter Username\n",
      "Academic license - for non-commercial use only - expires 2024-06-04\n",
      "u_t = (0.095570 +0.000000i)u_11\n",
      "    + (-1.007136 +0.000000i)uu_1\n",
      "   \n"
     ]
    }
   ],
   "source": [
    "optimizer_name = \"miosr\" # \"l0bnb\", \"miosr\"\n",
    "assert (optimizer_name == \"l0bnb\") or (optimizer_name == \"miosr\")\n",
    "if optimizer_name == \"l0bnb\":\n",
    "    optimizer = L0BNB(max_nonzeros=2, lam=1e-3, is_normal=True, normalize_columns=False)\n",
    "elif optimizer_name == \"miosr\":\n",
    "    optimizer = ps.MIOSR(target_sparsity=2, normalize_columns=True, regression_timeout=100)\n",
    "    \n",
    "n_ensemble_models = 50\n",
    "model = ps.SINDy(feature_library=weak_pde_lib, optimizer=optimizer, \n",
    "                 differentiation_method=differentiation_method,\n",
    "                 cache=True,\n",
    "                 feature_names=['u'])\n",
    "model.fit(np.expand_dims(un, -1), t=dt, ensemble=True, \n",
    "          library_ensemble=True, n_candidates_to_drop=1, n_models=n_ensemble_models)\n",
    "\n",
    "# print found pde\n",
    "print_pde(model.get_coef_list()[np.argmin(np.sum((np.squeeze(np.tensordot(X_pre, np.array(model.get_coef_list()).T, axes=([-1], [0])), axis=1)-y_pre)**2, axis=0))].reshape(-1,1), model.get_feature_names())"
   ]
  },
  {
   "cell_type": "code",
   "execution_count": 9,
   "id": "ae80736a",
   "metadata": {},
   "outputs": [],
   "source": [
    "best_subsets = [tuple(np.where(abs(brute_force(X_pre, y_pre, support_size=i).flatten())>0)[0]) \n",
    "                for i in range(1, X_pre.shape[1]+1)]"
   ]
  },
  {
   "cell_type": "markdown",
   "id": "3b30bdf4",
   "metadata": {},
   "source": [
    "#### Model selection by the UBIC (Algorithm 1)"
   ]
  },
  {
   "cell_type": "code",
   "execution_count": 10,
   "id": "8baf3445",
   "metadata": {},
   "outputs": [
    {
     "name": "stdout",
     "output_type": "stream",
     "text": [
      "threshold: 0.061093751541539495\n",
      "max_lam: 3.882633897336766\n",
      "1 <---> 1 inf\n",
      "1 <---> 1 inf\n",
      "1 <---> 1 inf\n"
     ]
    },
    {
     "data": {
      "text/plain": [
       "(-0.0,\n",
       " array([-62632.1022474 , -70283.38479739, -70278.48472284, -70279.79876959,\n",
       "        -70255.67170658, -70248.5392596 , -70220.97873975, -70042.86315962]),\n",
       " 1,\n",
       " 1)"
      ]
     },
     "execution_count": 10,
     "metadata": {},
     "output_type": "execute_result"
    }
   ],
   "source": [
    "tau = 3\n",
    "verbose = True\n",
    "scale = np.log(len(y_pre))\n",
    "# scale = 1 <- generalized UBIC\n",
    "per = 75\n",
    "\n",
    "post_means, b_bics, b_uns = baye_uncertainties(best_subsets, (X_pre, y_pre), u_type='cv1', take_sqrt=True)\n",
    "predictions = X_pre@post_means\n",
    "\n",
    "b_bics = np.array(b_bics)\n",
    "max_complexity = len(b_bics)\n",
    "complexities = np.arange(max_complexity)+1\n",
    "d_complexities = complexities[decreasing_values_indices(b_bics)]\n",
    "d_bics = b_bics[decreasing_values_indices(b_bics)]\n",
    "slopes = np.diff(b_bics)/(np.diff(complexities)*b_bics[:-1])\n",
    "thres = np.percentile(np.abs(np.diff(d_bics)/(np.diff(d_complexities)*d_bics[:-1])), per)\n",
    "# thres = 0.02\n",
    "print(\"threshold:\", thres)\n",
    "\n",
    "lower_bounds = []\n",
    "for k, efi in enumerate(best_subsets):\n",
    "    assert len(efi) == np.count_nonzero(post_means[:, k:k+1])\n",
    "    com = len(efi)\n",
    "    lower_bound = 2*np.abs(log_like_value(predictions[:, k:k+1], y_pre))-np.log(len(y_pre))*com\n",
    "    lower_bounds.append(lower_bound)\n",
    "\n",
    "last_lam = np.log10(max(lower_bounds/(b_uns*scale)))\n",
    "print(\"max_lam:\", last_lam)\n",
    "delta = last_lam/tau\n",
    "now_lam = last_lam-delta\n",
    "last_ubic = UBIC(b_bics, b_uns, len(y_pre), hyp=10**last_lam, scale=scale)\n",
    "last_bc = np.argmin(last_ubic)\n",
    "while now_lam >= 0:\n",
    "    now_ubic = UBIC(b_bics, b_uns, len(y_pre), hyp=10**now_lam, scale=scale)\n",
    "    now_bc = np.argmin(now_ubic)\n",
    "    \n",
    "    diff_com = now_bc-last_bc\n",
    "    diff_bic = b_bics[now_bc]-b_bics[last_bc]\n",
    "    imp = abs(diff_bic/(b_bics[last_bc]*diff_com))\n",
    "    \n",
    "    if verbose:\n",
    "        print(min(last_bc, now_bc), '<--->', max(last_bc, now_bc), \n",
    "              np.nan_to_num(imp, nan=np.inf))\n",
    "    \n",
    "    if (diff_com > 0 and (diff_bic > 0 or imp < thres)) or \\\n",
    "        (diff_com < 0 and diff_bic > 0 and imp > thres):\n",
    "        break\n",
    "    \n",
    "    last_lam = now_lam\n",
    "    now_lam = round(last_lam-delta, 10)\n",
    "    last_ubic = now_ubic\n",
    "    last_bc = now_bc\n",
    "\n",
    "best_bc = last_bc\n",
    "if abs((b_bics[last_bc]-b_bics[last_bc-1])/b_bics[last_bc-1]) < thres:\n",
    "    best_bc = best_bc - 1\n",
    "    \n",
    "last_lam = round(last_lam, 10)\n",
    "last_lam, last_ubic, last_bc, best_bc"
   ]
  },
  {
   "cell_type": "code",
   "execution_count": 11,
   "id": "6cf27381",
   "metadata": {},
   "outputs": [
    {
     "data": {
      "image/png": "[encoded data removed]",
      "text/plain": [
       "<Figure size 252x189 with 2 Axes>"
      ]
     },
     "metadata": {
      "needs_background": "light"
     },
     "output_type": "display_data"
    }
   ],
   "source": [
    "complexity_axis = [len(bs) for bs in best_subsets]\n",
    "with plt.style.context(['science']):\n",
    "    fig, ax = plt.subplots()\n",
    "    ax2 = ax.twinx()\n",
    "    ax.set_zorder(ax2.get_zorder()+1)\n",
    "    ax.patch.set_visible(False)\n",
    "    \n",
    "    l1, = ax.plot(complexity_axis, last_ubic, 'o-', c='black', markerfacecolor='none', label=f\"$\\lambda = {abs(last_lam)}$\")\n",
    "    ax.set_xticks(complexity_axis)\n",
    "    ax.set_ylabel(\"$\\\\textrm{UBIC}(\\\\xi^{k}, 10^{\\\\lambda})$\", fontsize=12)\n",
    "    ax.set_xlabel(\"Support sizes ($s_{k}$)\", fontsize=12)\n",
    "    ax.annotate('$(u_{xx}, uu_{x})\\checkmark$', fontsize=16, \n",
    "                 xy=(complexity_axis[best_bc], last_ubic[best_bc]), \n",
    "                 xytext=(complexity_axis[best_bc]+0.1, last_ubic[best_bc]+4000), \n",
    "                 arrowprops={'arrowstyle': '->'})\n",
    "    \n",
    "    l2, = ax2.plot(complexity_axis, b_uns, 'o--', c='blue', markerfacecolor='none', label=\"Uncertainty $\\\\textrm{U}^{k}$\")\n",
    "    s1 = ax2.scatter(complexity_axis[np.argmin(b_uns)], b_uns[np.argmin(b_uns)], c='blue')\n",
    "    ax2.tick_params(axis='y', labelcolor='blue')\n",
    "\n",
    "    ax.legend([l1, l2, s1], [f\"UBIC with $\\lambda = {abs(round(last_lam, 2))}$\", \"Uncertainty $\\\\textrm{U}^{k}$\", \"Min $\\\\textrm{U}^{k}$\"], \n",
    "              labelcolor='linecolor', loc='upper center', fontsize=11.5)\n",
    "    \n",
    "    # plt.savefig(\"burgers_wavelet_ubic.pdf\")\n",
    "    plt.show()"
   ]
  },
  {
   "cell_type": "markdown",
   "id": "b8bf2ca4",
   "metadata": {},
   "source": [
    "#### Percent coefficient error"
   ]
  },
  {
   "cell_type": "code",
   "execution_count": 12,
   "id": "179c5e17",
   "metadata": {},
   "outputs": [
    {
     "name": "stdout",
     "output_type": "stream",
     "text": [
      "7.9994861519105465 5.248014032576636\n"
     ]
    },
    {
     "data": {
      "text/plain": [
       "(0.7640200277319542, 0.08523892373680231)"
      ]
     },
     "execution_count": 12,
     "metadata": {},
     "output_type": "execute_result"
    }
   ],
   "source": [
    "# print(n_components, summ[n_components-1])\n",
    "print(l_F, l_inf)\n",
    "evaluate_coefficients(np.linalg.lstsq(X_pre[:, best_subsets[best_bc]], \n",
    "                                      y_pre, rcond=None)[0].flatten())"
   ]
  },
  {
   "cell_type": "code",
   "execution_count": 13,
   "id": "300be976",
   "metadata": {},
   "outputs": [],
   "source": [
    "# No denoising: 8.673577639876537 5.298318588581592 \n",
    "# rksvd: 2.858361587460368 2.274811883362282 | (0.9107969701290103, 0.3772757947444888)\n",
    "# svd n_comp=74: 8.2830942877307 4.990897588534944 | (0.4377375780166351, 0.18439574973366096)\n",
    "# svd n_comp=86: 8.51040101515912 5.163254362785331 | (0.5747929503770288, 0.03141691852627804)\n",
    "# svd n_comp=99 (99.5): 8.660746565852696 5.324954980348864 | (0.770910494195949, 0.1326679698575986)\n",
    "# pca n_comp=3: 4.754262017591448 5.675915023400061 | - 3 selected\n",
    "# pca n_comp=22: 5.539849551837206 3.837241763152806 | (1.4805624720730992, 1.36812501749769)\n",
    "# pca 99.5: 8.411869854614082 5.054547005505603 | (0.5210652800684792, 0.08352530991912882)\n",
    "# Robust PCA: 7.445189944826652 4.617636462159813 | (1.9538318222493618, 1.7621799177316084)\n",
    "# wavelet: 2.5287134283765695 2.1318082910253775 | (2.4942281074157746, 1.5133039078568222)"
   ]
  },
  {
   "cell_type": "code",
   "execution_count": 14,
   "id": "ecd770dc",
   "metadata": {},
   "outputs": [],
   "source": [
    "# FFT_{10}: 5.226547898222989 5.066573466223977 | (1.6110419451166242, 1.0472379899339952)\n",
    "# FFT_{25}: 6.753362788411607 5.163727170937074 | (1.201034558494282, 0.8659130290210453)\n",
    "# FFT_{50} 7.9994861519105465 5.248014032576636 | (0.7640200277319542, 0.08523892373680231)"
   ]
  },
  {
   "cell_type": "code",
   "execution_count": 15,
   "id": "3b9625ad",
   "metadata": {},
   "outputs": [],
   "source": [
    "### SVD(90)\n",
    "# 3 92.64923015787362\n",
    "# 4.760708194694509 5.668854439173446\n",
    "# Failed\n",
    "### SVD(95)\n",
    "# 11 95.11338531498691\n",
    "# 3.9613742537410515 3.150348359135305\n",
    "# (2.3853900084799093, 2.1872024582646086)\n",
    "### SVD(99.5)\n",
    "# 76 99.51829861634103\n",
    "# 8.3282256755406 5.003217153027226\n",
    "# (0.5228949159189394, 0.08261226057245386)\n",
    "### SVD(99.99)\n",
    "# 100 99.99112580092523\n",
    "# 8.667298715625757 5.325563542724821\n",
    "# (0.7780442175026381, 0.14434615548682972)"
   ]
  }
 ],
 "metadata": {
  "kernelspec": {
   "display_name": "Python [conda env:pysr]",
   "language": "python",
   "name": "conda-env-pysr-py"
  },
  "language_info": {
   "codemirror_mode": {
    "name": "ipython",
    "version": 3
   },
   "file_extension": ".py",
   "mimetype": "text/x-python",
   "name": "python",
   "nbconvert_exporter": "python",
   "pygments_lexer": "ipython3",
   "version": "3.10.10"
  }
 },
 "nbformat": 4,
 "nbformat_minor": 5
}
